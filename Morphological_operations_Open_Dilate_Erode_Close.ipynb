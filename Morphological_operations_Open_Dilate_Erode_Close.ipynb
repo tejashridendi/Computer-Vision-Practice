{
  "nbformat": 4,
  "nbformat_minor": 0,
  "metadata": {
    "colab": {
      "provenance": [],
      "authorship_tag": "ABX9TyOZXkeSFNdx6JBL0xQWElwb"
    },
    "kernelspec": {
      "name": "python3",
      "display_name": "Python 3"
    },
    "language_info": {
      "name": "python"
    }
  },
  "cells": [
    {
      "cell_type": "code",
      "execution_count": 1,
      "metadata": {
        "colab": {
          "base_uri": "https://localhost:8080/"
        },
        "id": "Ii1SlCFL7O0P",
        "outputId": "2cfe07fb-3123-4340-cc77-dc84aedf7c29"
      },
      "outputs": [
        {
          "output_type": "stream",
          "name": "stdout",
          "text": [
            "dilation 59\n",
            "erosion 6\n",
            "closing 38\n",
            "opening 20\n"
          ]
        }
      ],
      "source": [
        "import numpy as np\n",
        "import matplotlib.pyplot as plt\n",
        "from skimage.io import imread, imshow\n",
        "from skimage.draw import disk\n",
        "from skimage.morphology import (erosion, dilation, closing, opening,\n",
        "                                area_closing, area_opening)\n",
        "from skimage.color import rgb2gray\n",
        "\n",
        "a = np.array([\n",
        "    [0,0,0,0,0,0,0,0,0,0],\n",
        "    [0,1,1,1,1,1,1,1,0,0],\n",
        "    [0,0,0,0,1,1,1,1,0,0],\n",
        "    [0,0,0,0,1,1,1,1,0,0],\n",
        "    [0,0,0,1,1,1,1,1,0,0],\n",
        "    [0,0,0,0,1,1,1,1,0,0],\n",
        "    [0,0,0,1,1,0,0,0,0,0],\n",
        "    [0,0,0,0,0,0,0,0,0,0],\n",
        "    [0,0,0,0,0,0,0,0,0,0]\n",
        "])\n",
        "\n",
        "s = np.array([\n",
        "        [1,1,1],\n",
        "        [1,1,1],\n",
        "        [1,1,1]])\n",
        "\n",
        "unique, freq = np.unique(dilation(a,s), return_counts=True)\n",
        "print(\"dilation\", freq[1])\n",
        "\n",
        "unique, freq = np.unique(erosion(a,s), return_counts=True)\n",
        "print(\"erosion\", freq[1])\n",
        "\n",
        "\n",
        "unique, freq = np.unique(closing(a,s), return_counts=True)\n",
        "print(\"closing\", freq[1])\n",
        "\n",
        "unique, freq = np.unique(opening(a,s), return_counts=True)\n",
        "print(\"opening\", freq[1])\n",
        "\n",
        "\n",
        "# plt.imshow(dilation(a,s), cmap='gray')\n",
        "# plt.show()"
      ]
    }
  ]
}