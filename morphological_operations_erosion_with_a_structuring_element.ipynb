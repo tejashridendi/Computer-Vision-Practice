{
  "nbformat": 4,
  "nbformat_minor": 0,
  "metadata": {
    "colab": {
      "provenance": [],
      "authorship_tag": "ABX9TyMcFrpwy2GvnPqDPrYGvsK5"
    },
    "kernelspec": {
      "name": "python3",
      "display_name": "Python 3"
    },
    "language_info": {
      "name": "python"
    }
  },
  "cells": [
    {
      "cell_type": "code",
      "execution_count": 1,
      "metadata": {
        "colab": {
          "base_uri": "https://localhost:8080/"
        },
        "id": "Z4VlawjN9v4H",
        "outputId": "25f5a16d-4aa1-41ca-9528-9a0918b26a04"
      },
      "outputs": [
        {
          "output_type": "stream",
          "name": "stdout",
          "text": [
            "[[0 0 1 1 0]\n",
            " [0 0 1 1 0]\n",
            " [0 0 1 1 0]\n",
            " [0 0 1 1 0]]\n"
          ]
        }
      ],
      "source": [
        "import numpy as np\n",
        "import matplotlib.pyplot as plt\n",
        "from skimage.io import imread, imshow\n",
        "from skimage.draw import disk\n",
        "from skimage.morphology import (erosion, dilation, closing, opening,\n",
        "                                area_closing, area_opening)\n",
        "from skimage.color import rgb2gray\n",
        "\n",
        "a = np.array([\n",
        "    [0,0,1,1,0],\n",
        "    [0,0,1,1,0],\n",
        "    [0,0,1,1,0],\n",
        "    [1,1,1,1,1]\n",
        "])\n",
        "\n",
        "s = np.array([\n",
        "        [1],\n",
        "        [1],\n",
        "        [1]])\n",
        "\n",
        "image = np.array(erosion(a,s))\n",
        "print(image)"
      ]
    }
  ]
}